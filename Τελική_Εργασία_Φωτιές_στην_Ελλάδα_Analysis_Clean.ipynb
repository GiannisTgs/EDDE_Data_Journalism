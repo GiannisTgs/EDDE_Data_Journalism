{
  "nbformat": 4,
  "nbformat_minor": 0,
  "metadata": {
    "colab": {
      "name": "Τελική Εργασία-Φωτιές στην Ελλάδα_Analysis_Clean.ipynb",
      "provenance": [],
      "collapsed_sections": [
        "6_CovBQQWNAF"
      ]
    },
    "kernelspec": {
      "name": "python3",
      "display_name": "Python 3"
    },
    "language_info": {
      "name": "python"
    }
  },
  "cells": [
    {
      "cell_type": "markdown",
      "source": [
        "Στην παρούσα εργασία, θα ασχοληθώ με τις φωτιές και τις πυρκαγιές, που πλήττουν την Ελλάδα το τελευταίο έτος. Πιο συγκεκριμένα, έχει γίνει μία συλλογή των Tweets της Πυροσβεστικής Υπηρεσίας το διάστημα 2 Αυγούστου 2021 μέχρι και τις 7 Ιουλίου του 2022. Παράλληλα, έγινε συλλογή άρθρων που έχουν σχέση με φωτιά η πυρκαγιά από το ειδησεογραφιό site \"news24/7\", εναν από τους πιο γνωστούς ιστοχώρους στην χώρα μας. Τα άρθρα αφορούν την ίδια χρονική περίοδο με τα tweets δηλαδή από τις 2 Αυγούστου 2021 έως και τις 8 Ιουλίου 2022. **Η παρούσα ανάλυση θα χωριστέι σε ζητούμενα, ανάλογα με τις απαιτήσεις τις εργασίας, για την πιο εύκολη κατανόηση των δεδομένων. Η ανάλυση αυτή είναι ανοιχτή προς κάθε ενδιαφερόμενο.** "
      ],
      "metadata": {
        "id": "IU1pTpr_ch0S"
      }
    },
    {
      "cell_type": "markdown",
      "source": [
        "# Ζητούμενο 1: Να εξορύξετε δεδομένα με τεχνικές scraping (Beautiful Soup)\n",
        "Σε πρώτη φάση, όπως αναφέρθηκε και εισαγωγικά συνέλεξα tweets και άρθρα για τις φωτιές στην Ελλάδα, θέλοντας να επικεντρωθώ στις φωτιές της Εύβοιας και της Αττικής. Αυτό έγινε με διαδικασία scraping και με την χρήση της βιβλιοθήκης BeautifulSoup. Στο link αυτό, \"https://github.com/GiannisTgs/EDDE_Data_Journalism\", μπορέιτε να δείτε τις διαδικασίες συλλογής και scraping καθώς και να κατεβάσετε τα Tsv αρχεία που δημιούργησα "
      ],
      "metadata": {
        "id": "OepXbAwLm-0Y"
      }
    },
    {
      "cell_type": "markdown",
      "source": [
        "# Ζητούμενο 2: Τα δεδομένα θα πρέπει να εισαχθούν στην Python σε μορφή dataframe\n",
        "Αφού σενέλεξα τα δεδομένα, τα αποθήκευσα ως dataframes σε csv στο προσωπικό Drive. Οπότε ας τα καλέσουμε στην παρούσα ανάλυση"
      ],
      "metadata": {
        "id": "o_hBhmMCpyCh"
      }
    },
    {
      "cell_type": "code",
      "source": [
        "#Αρχικά εισάγουμε βιβλιοθήκες\n",
        "import pandas as pd\n",
        "import numpy as np"
      ],
      "metadata": {
        "id": "HJ7y5ofIsVFO"
      },
      "execution_count": null,
      "outputs": []
    },
    {
      "cell_type": "code",
      "source": [
        "#Κάνουμε mount το drive\n",
        "from google.colab import drive\n",
        "drive.mount('/content/gdrive')"
      ],
      "metadata": {
        "id": "a7JtKT6assOX"
      },
      "execution_count": null,
      "outputs": []
    },
    {
      "cell_type": "code",
      "source": [
        "#Αρχικά καλούμε τα άρθρα από το news 247\n",
        "articles =pd.read_csv(\"/content/gdrive/My Drive/Colab Notebooks/news247_fotia.tsv\", sep='\\t')\n",
        "articles.head()"
      ],
      "metadata": {
        "id": "r2JnH5Y9s3cr"
      },
      "execution_count": null,
      "outputs": []
    },
    {
      "cell_type": "code",
      "source": [
        "#Κάνω ακριβώς την ίδια διαδικασία και για τα tweets που έχουν συλλεχθεί\n",
        "tweets =pd.read_csv(\"/content/gdrive/My Drive/Colab Notebooks/pyrosvestiki_tweets.tsv\", sep='\\t')\n",
        "tweets.head()"
      ],
      "metadata": {
        "id": "86IYFFN7taB6"
      },
      "execution_count": null,
      "outputs": []
    },
    {
      "cell_type": "markdown",
      "source": [
        "# Ζητούμενο 3,4,5: Καθάρισμα δεδομένων από άχρηστα στοιχεία, NaN values, περιττά κείμενα και επιπλέον στήλες. Κατάλληλη επεξεργασία (αφαίρεση stopwords,stemming/lemmatization). Νέες παραμέτρους ως στήλες στο dataframe.\n",
        "Έχει γίνει ένα \"πρώτο\" καθάρισμα στα δεδομένα κυρίως των άρθρων (δείτε το αντίστοιχο ipynb από το Git hub. Όμως ας συνεχίσουμε και λίγο παρακάτω\n",
        "\n",
        "```\n",
        "# Αυτό έχει τη μορφή κώδικα\n",
        "```\n",
        "\n"
      ],
      "metadata": {
        "id": "RKtABAFWuTMP"
      }
    },
    {
      "cell_type": "code",
      "source": [
        "#Αρχικά θα φτιάξουμε το πιο σημαντικό. Αυτό δεν είναι άλλο από το datetime\n",
        "from datetime import timedelta\n",
        "from datetime import datetime as dt"
      ],
      "metadata": {
        "id": "FO4KwDDru1l9"
      },
      "execution_count": null,
      "outputs": []
    },
    {
      "cell_type": "code",
      "source": [
        "articles['datetime'] = pd.to_datetime(articles['Date'], errors='coerce' , format='%Y %m %d %H:%M:%S')"
      ],
      "metadata": {
        "id": "1u8FPbpEvElK"
      },
      "execution_count": null,
      "outputs": []
    },
    {
      "cell_type": "code",
      "source": [
        "#Κοιτάμε εάν δούλεψε\n",
        "articles.head(1)"
      ],
      "metadata": {
        "id": "RO9KI9JTvM9Q"
      },
      "execution_count": null,
      "outputs": []
    },
    {
      "cell_type": "markdown",
      "source": [
        "Σαν δεύτερο απαραίτητο βήμα, πρέπει να αναπροσαρμόσουμε το Index. Θέλουμε το index να είναι η ημερομηνία, ώστε να γίνει πιο εύκολη η διαδικασία ανάλυσης. "
      ],
      "metadata": {
        "id": "Ji9xH1BAvcve"
      }
    },
    {
      "cell_type": "code",
      "source": [
        "articles.set_index('Date')"
      ],
      "metadata": {
        "id": "RV_w4ymYwFki"
      },
      "execution_count": null,
      "outputs": []
    },
    {
      "cell_type": "code",
      "source": [
        "articles.head()"
      ],
      "metadata": {
        "id": "Z6MjyoikzQyl"
      },
      "execution_count": null,
      "outputs": []
    },
    {
      "cell_type": "code",
      "source": [
        "articles.dtypes"
      ],
      "metadata": {
        "id": "Pt1lX2_szMwN"
      },
      "execution_count": null,
      "outputs": []
    },
    {
      "cell_type": "markdown",
      "source": [
        "**Ας ορίσουμε και νέες στλήλες στο dataframe mas. Βλέποντας τις στήλες, θεωρώ ότι είναι πιο ωφέλιμο να δημιουργήσουμε στήλη  \"Day\", \"Hour\" και \"Month\", Καθώς θα επιφέρει ενδιαφέρονται αποτελέσματα.**"
      ],
      "metadata": {
        "id": "sanz8yRb78Rk"
      }
    },
    {
      "cell_type": "code",
      "source": [
        "articles['Month'] = pd.DatetimeIndex(articles['Date']).month\n",
        "articles['Day'] = pd.DatetimeIndex(articles['Date']).day\n",
        "articles['Hour']= pd.DatetimeIndex(articles['Date']).hour"
      ],
      "metadata": {
        "id": "RrFl1XjU8TDb"
      },
      "execution_count": null,
      "outputs": []
    },
    {
      "cell_type": "code",
      "source": [
        "articles"
      ],
      "metadata": {
        "id": "sf06NePT8kpa"
      },
      "execution_count": null,
      "outputs": []
    },
    {
      "cell_type": "markdown",
      "source": [
        "Ας βάλουμε και μία στήλη \"Year\", γιατί μπορεί να μας χρειαστεί"
      ],
      "metadata": {
        "id": "je-tLtWT8wMa"
      }
    },
    {
      "cell_type": "code",
      "source": [
        "articles['Year']= pd.DatetimeIndex(articles['Date']).year"
      ],
      "metadata": {
        "id": "j5IpIn988xwd"
      },
      "execution_count": null,
      "outputs": []
    },
    {
      "cell_type": "code",
      "source": [
        "articles"
      ],
      "metadata": {
        "id": "G2zJKJM682Y8"
      },
      "execution_count": null,
      "outputs": []
    },
    {
      "cell_type": "code",
      "source": [
        "import numpy as np "
      ],
      "metadata": {
        "id": "4_3pk2tF84eV"
      },
      "execution_count": null,
      "outputs": []
    },
    {
      "cell_type": "code",
      "source": [
        "print(articles.info())\n",
        "articles.head(1) #Βλέπουμε πως όλα είναι καλα. Οι στήλες της ώρας κλπ έχουν αποθηκευτεί ως Int, οπότε είμαστε οκ για την συνέχεια"
      ],
      "metadata": {
        "id": "sppyBMVX9r_u"
      },
      "execution_count": null,
      "outputs": []
    },
    {
      "cell_type": "markdown",
      "source": [
        "Ας προχωρήσουμε σε ακόμη βαθύτερο καθάρισμα. Αυτή την φορά θα καθαρίσουμε όσο γίνεται τα κείμενα σε νεό column ως \"clean_text\"\n",
        "\n"
      ],
      "metadata": {
        "id": "1pZydlSK_G5L"
      }
    },
    {
      "cell_type": "code",
      "source": [
        "articles['clean_text'] = articles['Text'].str.replace(r'https?:\\/\\/.*[\\r\\n]*',\" \")"
      ],
      "metadata": {
        "id": "wwAHD_yD_RcJ"
      },
      "execution_count": null,
      "outputs": []
    },
    {
      "cell_type": "code",
      "source": [
        "articles['clean_text'] = articles['clean_text'].str.replace(r'[\\n]*\\s*https?:\\/\\/.*[\\r\\n]*',\" \").str.replace(r'\\n*',\"\").str.replace(r'[▪️🟢⚪👉]*',\"\").str.replace(r\"\\w\\/\\w\", \"\")\n",
        "articles['clean_text'] = articles['clean_text'].str.replace('amp;', '').str.replace(r'[\\!\\-\\:\\,\\.«»\\\"“”\\[–()&]',\" \").str.replace('&gt;', ' ').str.replace(r\"\\s\\s\\s?\", ' ')\n",
        "articles['clean_text'] = articles['clean_text'].str.replace(r\"\\w*…\", \"\")\n",
        "#Το πιο πιθανό είναι να μην έχει περίεργους χαρακτήρες (θα το χρησιμοποιήσουμε για τα tweets, αλλά το κάνουμε για καλό και για κακό)"
      ],
      "metadata": {
        "id": "vCq0lUIY-Drx"
      },
      "execution_count": null,
      "outputs": []
    },
    {
      "cell_type": "code",
      "source": [
        "articles['clean_text'] = articles['clean_text'].str.lower() #μετατροπή όλων των χαρακτήρων σε μικρά γράμματα"
      ],
      "metadata": {
        "id": "bCAyWMAX_zht"
      },
      "execution_count": null,
      "outputs": []
    },
    {
      "cell_type": "code",
      "source": [
        "articles.head(1) #Βλέπουμε ότι δούλεψε!"
      ],
      "metadata": {
        "id": "RcFgG6xx__J8"
      },
      "execution_count": null,
      "outputs": []
    },
    {
      "cell_type": "code",
      "source": [
        "articles['Word_count'] = articles['clean_text'].str.split().map(len) #Ορίστε μία ακόμα ενδιαφέρουσα παράμετρος για το df μας!\n",
        "articles.head(1)\n"
      ],
      "metadata": {
        "id": "uwrrGPnpBZPR"
      },
      "execution_count": null,
      "outputs": []
    },
    {
      "cell_type": "markdown",
      "source": [
        "**Ας κάνουμε την ίδια διαδικασία και για τα tweets που έχουμε συλλέξει! Στο τέλος της παρούσας ενότητας θα έχουμε δύο πεντακάθαρα dataframes, ώστε να συνεχίσουμε με τα ερωτήματα που μας ενδιαφέρουν και τον σχεδιασμό των αντίστοιχων γραφημάτων!**"
      ],
      "metadata": {
        "id": "Ru0vn76rB3s8"
      }
    },
    {
      "cell_type": "code",
      "source": [
        "tweets #Βλέπουμε ότι έχουν μαζευτεί πάνω από 3.000 tweets!"
      ],
      "metadata": {
        "id": "sx91gwrtCKnR"
      },
      "execution_count": null,
      "outputs": []
    },
    {
      "cell_type": "markdown",
      "source": [
        "**Βλέπουμε ότι γίενεται χαμός από \"άχρηστες\" στήλες που δεν χρειαζόμαστε καν. Ας τις διώξουμε και να κρατήσουμε όσες θέλουμε.**"
      ],
      "metadata": {
        "id": "CXDhO48XD05s"
      }
    },
    {
      "cell_type": "code",
      "source": [
        "clean_tweets = tweets[['created_at','full_text','retweet_count','favorite_count']]"
      ],
      "metadata": {
        "id": "eL_LrtkYDAlQ"
      },
      "execution_count": null,
      "outputs": []
    },
    {
      "cell_type": "code",
      "source": [
        "clean_tweets.head() #Βλέπουμε ήδη πόσο έχει καθαρίσει"
      ],
      "metadata": {
        "id": "F4BC1dSsEieO"
      },
      "execution_count": null,
      "outputs": []
    },
    {
      "cell_type": "code",
      "source": [
        "#Ας μετονομάσουμε και κάποια columns\n",
        "clean_tweets = clean_tweets.rename(columns={'created_at': 'Date', 'full_text': 'Text' , 'retweet_count':'Retweets' , 'favorite_count':'Likes'} )\n",
        "clean_tweets"
      ],
      "metadata": {
        "id": "QIP-4maWEhkO"
      },
      "execution_count": null,
      "outputs": []
    },
    {
      "cell_type": "code",
      "source": [
        "print(clean_tweets.info())\n",
        "clean_tweets.head(1)"
      ],
      "metadata": {
        "id": "rvWyBvz7FwDH"
      },
      "execution_count": null,
      "outputs": []
    },
    {
      "cell_type": "code",
      "source": [
        "#Ας κάνουμε και εδώ την διαδικασία του datetime\n",
        "clean_tweets['datetime'] = pd.to_datetime(clean_tweets['Date'], format='%a %b %d %H:%M:%S +0000 %Y')"
      ],
      "metadata": {
        "id": "OoaPyhlbF215"
      },
      "execution_count": null,
      "outputs": []
    },
    {
      "cell_type": "code",
      "source": [
        "clean_tweets.dtypes"
      ],
      "metadata": {
        "id": "6n8l8Ad_Gf1o"
      },
      "execution_count": null,
      "outputs": []
    },
    {
      "cell_type": "code",
      "source": [
        "# Πρέπει να προσθέσουμε βέβαια και σε αυ΄το το dataframe στήλες για την ημέρα, τον μήνα και τον χρόνο.\n",
        "clean_tweets['Year'] = pd.DatetimeIndex(clean_tweets['datetime']).year\n",
        "clean_tweets['Month'] = pd.DatetimeIndex(clean_tweets['datetime']).month\n",
        "clean_tweets['Day'] = pd.DatetimeIndex(clean_tweets['datetime']).day"
      ],
      "metadata": {
        "id": "5MmoWmTEGkZu"
      },
      "execution_count": null,
      "outputs": []
    },
    {
      "cell_type": "code",
      "source": [
        "clean_tweets"
      ],
      "metadata": {
        "id": "iVTaF-tRGz78"
      },
      "execution_count": null,
      "outputs": []
    },
    {
      "cell_type": "code",
      "source": [
        "#Βλέπουμε διάφορους άχρηστους χαρακτήρες στο Text, άρα διαγράφουμε και αυτούς, φτιάχνοντας ένα νέο column \"clean text\"\n",
        "clean_tweets['clean_text'] = clean_tweets['Text'].str.replace(r'https?:\\/\\/.*[\\r\\n]*',\" \")\n",
        "clean_tweets['clean_text'] = clean_tweets['Text'].str.replace(r'[\\n]*\\s*https?:\\/\\/.*[\\r\\n]*',\" \").str.replace(r'\\n*',\"\").str.replace(r'[▪️🚨⚠️➡️🧯🔥]*',\"\").str.replace(r\"\\w\\/\\w\", \"\")\n",
        "clean_tweets['clean_text'] = clean_tweets['Text'].str.replace('amp;', '').str.replace(r'[\\!\\-\\:\\,\\.«»\\\"“”\\[–()&]',\" \").str.replace('&gt;', ' ').str.replace(r\"\\s\\s\\s?\", ' ')\n",
        "clean_tweets['clean_text'] = clean_tweets['Text'].str.replace(r\"\\w*…\", \"\")\n",
        "clean_tweets['clean_text'] = clean_tweets['Text'].str.replace('\\n','')\n"
      ],
      "metadata": {
        "id": "6inNWGGOFDUq"
      },
      "execution_count": null,
      "outputs": []
    },
    {
      "cell_type": "code",
      "source": [
        "clean_tweets=clean_tweets.apply(lambda x: x.astype(str).str.lower()).drop_duplicates(subset=['clean_text'],keep='first') #τα κεφαλαία, μικρά"
      ],
      "metadata": {
        "id": "YzioC-L0MC9d"
      },
      "execution_count": null,
      "outputs": []
    },
    {
      "cell_type": "code",
      "source": [
        "clean_tweets.head(30)"
      ],
      "metadata": {
        "id": "IPqu6E3RLZfx"
      },
      "execution_count": null,
      "outputs": []
    },
    {
      "cell_type": "code",
      "source": [
        "clean_tweets['clean_text'] = clean_tweets['clean_text'].str.replace(r'rt\\s', '').str.replace(r'@[\\w\\:]*\\s', '') #βγάζουμε να mentions kai ta Retweets"
      ],
      "metadata": {
        "id": "iFYuhI15Mt1L"
      },
      "execution_count": null,
      "outputs": []
    },
    {
      "cell_type": "code",
      "source": [
        "clean_tweets.head(50)"
      ],
      "metadata": {
        "id": "-5oR2PVQNTKp"
      },
      "execution_count": null,
      "outputs": []
    },
    {
      "cell_type": "code",
      "source": [
        "clean_tweets.dtypes"
      ],
      "metadata": {
        "id": "A8JlBzMROfNO"
      },
      "execution_count": null,
      "outputs": []
    },
    {
      "cell_type": "code",
      "source": [
        "#βλέπουμε πως όλα είναι object. Πρέπει να τα μετατρέψουμε\n",
        "clean_tweets['Retweets'] = clean_tweets['Retweets'].astype(np.int64)\n",
        "clean_tweets['Likes'] = clean_tweets['Likes'].astype(np.int64)\n",
        "clean_tweets['Year'] = clean_tweets['Year'].astype(np.int64)\n",
        "clean_tweets['Month'] = clean_tweets['Month'].astype(np.int64)\n",
        "clean_tweets['Day'] = clean_tweets['Day'].astype(np.int64)\n",
        "clean_tweets['datetime'] = clean_tweets['datetime'].astype(np.datetime64)"
      ],
      "metadata": {
        "id": "uWSyV7mSOBoG"
      },
      "execution_count": null,
      "outputs": []
    },
    {
      "cell_type": "code",
      "source": [
        "clean_tweets.dtypes"
      ],
      "metadata": {
        "id": "-SGOJajvQisl"
      },
      "execution_count": null,
      "outputs": []
    },
    {
      "cell_type": "code",
      "source": [
        "#Ας κάνουμε και εδώ μία στήλη wordcount γιατί μπορεί να φανεί χρήσιμη\n",
        "clean_tweets['Word_count'] = clean_tweets['clean_text'].str.split().map(len)\n",
        "clean_tweets.head()"
      ],
      "metadata": {
        "id": "V-FQlmYKTaDU"
      },
      "execution_count": null,
      "outputs": []
    },
    {
      "cell_type": "code",
      "source": [
        "#Ας βγάλουμε και το hashtag (τον χαρακτήρα, καθώς θέλουμε να κρατήσουμε την λέξη \"πυρκαγιά\")\n",
        "clean_tweets['clean_text'] = clean_tweets['clean_text'].str.replace(r'#', '')\n"
      ],
      "metadata": {
        "id": "W38tA8HhT1s-"
      },
      "execution_count": null,
      "outputs": []
    },
    {
      "cell_type": "code",
      "source": [
        "clean_tweets #Ολα τέλεια"
      ],
      "metadata": {
        "id": "8jhV2Ci8U52_"
      },
      "execution_count": null,
      "outputs": []
    },
    {
      "cell_type": "markdown",
      "source": [
        "# Βλέπουμε πως έχουμε καθαρίσει τα δύο dataframes σε έναν πολύ καλό βαθμό, οπότε μπορούμε με ασφάλεια να συνεχίσουμε στην ανάλυση των δεδομένων μας στην τελική τους μορφή. Θυμίζω ότι έχουμε δύο dataframes, με ονόματα **clean_tweets** και **articles** "
      ],
      "metadata": {
        "id": "6_CovBQQWNAF"
      }
    },
    {
      "cell_type": "markdown",
      "source": [
        "# Ζητούμενο 6+7. Να πραγματοποιήσω αναλύσεις στα αριθμητικά δεδομένα και να δημιουργήσω τα αντίστοιχα γραφήματα, τα οποία δείχνουν χαρακτηριστικά και συσχετίσεις που κρύβουν τα δεδομένα. Γραφήματα από τα κείμενά όπως (α) ένα wordcloud, (β) ένα διάγραμμα με τις 15 πιο συχνές λέξεις και (γ) ένα διάγραμμα με τα πιο συχνά διγράμματα (bigrams)."
      ],
      "metadata": {
        "id": "AXruVKpCWmZS"
      }
    },
    {
      "cell_type": "markdown",
      "source": [
        "**Ξεκινώντας, ας αξιοποιήσουμε όλες τις παραπάνω ανακατατάξεις και τις αναπροσαρμογές που κάναμε στα δεδομένα μας, για να βγάλουμε κάποια ενδιαφέροντα σοτιχεία.**"
      ],
      "metadata": {
        "id": "FmPE7OONWoLa"
      }
    },
    {
      "cell_type": "code",
      "source": [
        "articles"
      ],
      "metadata": {
        "id": "t3WLlvGSaWtx"
      },
      "execution_count": null,
      "outputs": []
    },
    {
      "cell_type": "code",
      "source": [
        "articles.dtypes"
      ],
      "metadata": {
        "id": "dNP6XVd9O9Gy"
      },
      "execution_count": null,
      "outputs": []
    },
    {
      "cell_type": "code",
      "source": [
        "clean_tweets"
      ],
      "metadata": {
        "id": "UrnDxgJ-_MgC"
      },
      "execution_count": null,
      "outputs": []
    },
    {
      "cell_type": "code",
      "source": [
        "clean_tweets.dtypes"
      ],
      "metadata": {
        "id": "_maTXxppPAI2"
      },
      "execution_count": null,
      "outputs": []
    },
    {
      "cell_type": "code",
      "source": [
        "articles['Word_count'].mean() #μέσος όρος λέξεων στα άρθρα"
      ],
      "metadata": {
        "id": "GXFMh05QOgaW"
      },
      "execution_count": null,
      "outputs": []
    },
    {
      "cell_type": "markdown",
      "source": [
        "Μια πρώτη ερώτηση που μπορούμε να κάνουμε στα δεδομένα που αφορά tweets και site είναι η διακύμανση της συχνότητάς τους. "
      ],
      "metadata": {
        "id": "L2xe2VQy_Upb"
      }
    },
    {
      "cell_type": "code",
      "source": [
        "import matplotlib.pyplot as plt"
      ],
      "metadata": {
        "id": "bfGWk-weLe_U"
      },
      "execution_count": null,
      "outputs": []
    },
    {
      "cell_type": "code",
      "source": [
        "articles['Title'].groupby(articles['Month']).count()"
      ],
      "metadata": {
        "id": "LaW5Em8qPuY-"
      },
      "execution_count": null,
      "outputs": []
    },
    {
      "cell_type": "code",
      "source": [
        "articles.groupby('Month')['Title'].count().plot(kind='bar',figsize=(10,7), color='tab:red',title=\"Articles by month\")"
      ],
      "metadata": {
        "id": "O7H2kEdF_wh-"
      },
      "execution_count": null,
      "outputs": []
    },
    {
      "cell_type": "code",
      "source": [
        "articles['Title'].groupby(articles['Year']).count() #Βλέπουμε πόσα άρθρα έχουν ανέβει για φωτιές το 2021 και το 2022. Σχεδόν τα διπλά είχαν ανέβει το 2021!"
      ],
      "metadata": {
        "id": "oJReYSUiRSol"
      },
      "execution_count": null,
      "outputs": []
    },
    {
      "cell_type": "code",
      "source": [
        "clean_tweets['Text'].groupby(clean_tweets['Year']).count() # Αντίθετα βλέπουμε στα tweets της πυροσβεστικής ότι το 2022 έχουν ανέβει επρισσότερα από το 2021."
      ],
      "metadata": {
        "id": "0b92upUfRwq_"
      },
      "execution_count": null,
      "outputs": []
    },
    {
      "cell_type": "code",
      "source": [
        "clean_tweets['Text'].groupby(clean_tweets['Month']).count()"
      ],
      "metadata": {
        "id": "R5kU92Ml_2-I"
      },
      "execution_count": null,
      "outputs": []
    },
    {
      "cell_type": "code",
      "source": [
        "clean_tweets.groupby('Month')['clean_text'].count().plot(kind='bar',figsize=(13,10), color='tab:blue',title=\"Tweets by month\")"
      ],
      "metadata": {
        "id": "nmIHgM0RQZR9"
      },
      "execution_count": null,
      "outputs": []
    },
    {
      "cell_type": "markdown",
      "source": [
        "Βρήκαμε το πρώτο ενδιαφέρον στοιχείο. Βλέπουμε στην περίπτωση του site, το πότε έχει ανεβάσει τα περισσότερα άρθρα. Αυτός ο μήνας είναι ο Αύγουστος και προφανώςς οφείλεται στις μεγάλες φωτιές της Εύβοιας και της Βαρυμπόμπης. Αντίστοιχεα στην περίπτωση των tweets φαίνεται πως περισσότερα έγιναν τον Ιούνιο. Κρατάμε τα στοιχεία αυτά για τη νσυνέχεια όπου θα ξεχωρίσουμε σαν αντικείμενο έρευνας τον Αύγουστο."
      ],
      "metadata": {
        "id": "UXsFZR3fEPHy"
      }
    },
    {
      "cell_type": "code",
      "source": [
        "# Ένα ακόμη ενδιαφέρον σημείο είναι το θέμα της φωτιάς στο news24/7 που ενατεσσόταν, σε ποια κατηγορία δηλαδή.\n",
        "articles['Category'].value_counts(ascending=False)"
      ],
      "metadata": {
        "id": "YsxZuX6TFIza"
      },
      "execution_count": null,
      "outputs": []
    },
    {
      "cell_type": "code",
      "source": [
        "articles['Category'].value_counts().plot(kind='barh',figsize=(15,15))"
      ],
      "metadata": {
        "id": "5fyqtbOxJqOM"
      },
      "execution_count": null,
      "outputs": []
    },
    {
      "cell_type": "code",
      "source": [
        "#Ας κάνουμε και ένα διάγραμμα\n",
        "# x axis values\n",
        "x = [864,157,122,28,21,13,12,9,8,7,6,6,4,4,3]\n",
        "# corresponding y axis values\n",
        "y = ['ΚΟΙΝΩΝΙΑ','ΠΟΛΙΤΙΚΗ','ΚΟΣΜΟΣ','ΟΙΚΟΝΟΜΙΑ','ΓΝΩΜΕΣ','ΠΕΡΙΒΑΛΛΟΝ','CELEBRITIES','NEW ARTICLES','SUNDAY EDITION','LIVE BLOG','ΕΠΙΧΕΙΡΗΣΕΙΣ','ΕΓΚΛΗΜΑ','ΑΘΛΗΤΙΚΑ','ΤΗΛΕΟΡΑΣΗ','ΠΟΛΙΤΙΣΜΟΣ']\n",
        "  \n",
        "# plotting the points \n",
        "articles['Category'].value_counts(ascending=True).plot(kind='barh',figsize=(13,10))\n",
        "  \n",
        "# naming the x axis\n",
        "plt.xlabel('Titles')\n",
        "# naming the y axis\n",
        "plt.ylabel('Categories')\n",
        "  \n",
        "# giving a title to my graph\n",
        "plt.title('Categories that Using the Keyword Fire in News24.7',fontsize=24)\n",
        "plt.xticks(range(0,800,50))\n",
        "  \n",
        "# function to show the plot\n",
        "plt.show()"
      ],
      "metadata": {
        "id": "wW11DGO5F0fp"
      },
      "execution_count": null,
      "outputs": []
    },
    {
      "cell_type": "code",
      "source": [
        "clean_tweets"
      ],
      "metadata": {
        "id": "-18ESk0ySlpS"
      },
      "execution_count": null,
      "outputs": []
    },
    {
      "cell_type": "code",
      "source": [
        "#Ας δούμε και πόσο \"απήχηση\" έχουν τα tweets της Πυροσβεστικής. Ας μετρήσουμε Likes kai Retweets\n",
        "clean_tweets['Retweets'].sum()\n"
      ],
      "metadata": {
        "id": "l5GHmYj0SrAO"
      },
      "execution_count": null,
      "outputs": []
    },
    {
      "cell_type": "code",
      "source": [
        "clean_tweets['Retweets'].mean()"
      ],
      "metadata": {
        "id": "nUE0B--6TOvt"
      },
      "execution_count": null,
      "outputs": []
    },
    {
      "cell_type": "code",
      "source": [
        "clean_tweets['Likes'].sum()"
      ],
      "metadata": {
        "id": "mDAcr1ShTi_0"
      },
      "execution_count": null,
      "outputs": []
    },
    {
      "cell_type": "code",
      "source": [
        "clean_tweets['Likes'].mean()"
      ],
      "metadata": {
        "id": "qxDj2t7AToIP"
      },
      "execution_count": null,
      "outputs": []
    },
    {
      "cell_type": "code",
      "source": [
        "clean_tweets.groupby('Month')['Likes'].count()"
      ],
      "metadata": {
        "id": "6erqG_EgTu_D"
      },
      "execution_count": null,
      "outputs": []
    },
    {
      "cell_type": "code",
      "source": [
        "clean_tweets.groupby('Month')['Retweets'].count()"
      ],
      "metadata": {
        "id": "qIMiOp0hz5Wr"
      },
      "execution_count": null,
      "outputs": []
    },
    {
      "cell_type": "markdown",
      "source": [
        "**Καθώς θέλουμε να δούμε και να αναλύσουμε τι έγινε την περίοδο του Αυγούστου που έλαβαν χώρα οι μεγάλες φωτιές της Αττικής και την Εύβοιας, ας φτιάξουμε δύο νέα df (ένα για τα άρθρα και ένα για τα tweets) που αφορούν αποκλειστικά τον Αύγουστο.**"
      ],
      "metadata": {
        "id": "cKzk7MX6MARC"
      }
    },
    {
      "cell_type": "code",
      "source": [
        "articles_August=articles[articles['Month']==8]\n",
        "articles_August"
      ],
      "metadata": {
        "id": "U_PUTLhCQ2p9"
      },
      "execution_count": null,
      "outputs": []
    },
    {
      "cell_type": "code",
      "source": [
        ""
      ],
      "metadata": {
        "id": "7ECavpK0nYz2"
      },
      "execution_count": null,
      "outputs": []
    },
    {
      "cell_type": "code",
      "source": [
        "clean_tweets_August=clean_tweets[clean_tweets['Month']==8]\n",
        "clean_tweets_August"
      ],
      "metadata": {
        "id": "AiHqVLQVMUdw"
      },
      "execution_count": null,
      "outputs": []
    },
    {
      "cell_type": "code",
      "source": [
        "def tweets_per_day(clean_tweets_August):\n",
        "    clean_tweets_August['datetime']\n",
        "    return clean_tweets_August[['Text']].groupby(clean_tweets_August['datetime'].dt.date).count()\n",
        "tweets_per_day(clean_tweets_August).sort_values(by=['datetime'] , ascending = False)"
      ],
      "metadata": {
        "id": "-OiJyROpuNMi"
      },
      "execution_count": null,
      "outputs": []
    },
    {
      "cell_type": "code",
      "source": [
        "def articles_per_day(articles_August):\n",
        "    articles_August['datetime'] = pd.to_datetime(articles_August['datetime'], format='%Y%m%d')\n",
        "    return articles_August[['Title']].groupby(articles_August['datetime'].dt.date).count()\n",
        "articles_per_day(articles_August).mean()"
      ],
      "metadata": {
        "id": "IOKP_F6hwDxY"
      },
      "execution_count": null,
      "outputs": []
    },
    {
      "cell_type": "code",
      "source": [
        "articles_per_day(articles_August).sort_values(by=['datetime'] , ascending = False).plot(figsize=(25,13),title='News 24/7-Articles per Day about fires',fontsize=16,color='navy')"
      ],
      "metadata": {
        "id": "DryBIt86xudR"
      },
      "execution_count": null,
      "outputs": []
    },
    {
      "cell_type": "code",
      "source": [
        "posts_per_day= tweets_per_day(clean_tweets_August).merge(articles_per_day(articles_August), on=\"datetime\")\n",
        "posts_per_day.rename(columns = {'Text':'Twitter','Title':'News24/7'}, inplace = True)\n",
        "posts_per_day.sort_values(by=['datetime'],ascending = False)"
      ],
      "metadata": {
        "id": "ibhHQ3AluA-_"
      },
      "execution_count": null,
      "outputs": []
    },
    {
      "cell_type": "code",
      "source": [
        "posts_per_day.plot(kind='bar', color=['midnightblue','brown'], figsize=(20,20), title= \"News 24/7 and Twitters posts per day on August\")"
      ],
      "metadata": {
        "id": "CrN3uvg33qr_"
      },
      "execution_count": null,
      "outputs": []
    },
    {
      "cell_type": "markdown",
      "source": [
        "# Συνεχίζοντας θα δημιουργήσουμε ένα wordcloud για τα Tweets της Πυροσβεστικής, ώστε να βρούμε τις πιο συχνές λέξεις κλπ."
      ],
      "metadata": {
        "id": "Vu2ZKx7sZHNm"
      }
    },
    {
      "cell_type": "code",
      "source": [
        "#Εισάγουμε τις βιβλιοθήκες\n",
        "from wordcloud import WordCloud, STOPWORDS\n",
        "import matplotlib.pyplot as plt"
      ],
      "metadata": {
        "id": "_8CpRa03ZQpZ"
      },
      "execution_count": null,
      "outputs": []
    },
    {
      "cell_type": "code",
      "source": [
        "# Concatenate tweets' texts\n",
        "text_a = clean_tweets['clean_text'].str.cat(sep = ' ')#.replace(\"amp\", ' ')\n",
        "# View text\n",
        "text_a"
      ],
      "metadata": {
        "id": "zlgnV47ZZxsD"
      },
      "execution_count": null,
      "outputs": []
    },
    {
      "cell_type": "code",
      "source": [
        "#Βλέπω πως έχει κρατήσει τα urls, οπότε τα βγάζω!\n",
        "clean_tweets['clean_text'] = clean_tweets['clean_text'].str.replace(r'https?:\\/\\/.*[\\r\\n]*',\" \").str.replace('\\U0001f7e1',\" \")"
      ],
      "metadata": {
        "id": "FmOq7eVGbtU_"
      },
      "execution_count": null,
      "outputs": []
    },
    {
      "cell_type": "code",
      "source": [
        "# Concatenate tweets' texts\n",
        "text_a = clean_tweets['clean_text'].str.cat(sep = ' ').replace(\"amp\", ' ') #Γενικά tweets Πυροσβεστικής\n",
        "# View text\n",
        "text_a"
      ],
      "metadata": {
        "id": "BJHxP98AcXxO"
      },
      "execution_count": null,
      "outputs": []
    },
    {
      "cell_type": "code",
      "source": [
        "clean_tweets['clean_text'].str.split().str.len()"
      ],
      "metadata": {
        "id": "t3VRD5EldVEp"
      },
      "execution_count": null,
      "outputs": []
    },
    {
      "cell_type": "code",
      "source": [
        "text_b= articles.apply(lambda x: x.astype(str).str.lower()) #Γενικά τα άρθρα\n",
        "text_b= articles['Title'].str.cat(sep = ' ').replace(\"amp\", ' ')"
      ],
      "metadata": {
        "id": "lJtfnQl5iA5-"
      },
      "execution_count": null,
      "outputs": []
    },
    {
      "cell_type": "code",
      "source": [
        "text_b"
      ],
      "metadata": {
        "id": "vyDnVuvgisVc"
      },
      "execution_count": null,
      "outputs": []
    },
    {
      "cell_type": "code",
      "source": [
        "text_c= clean_tweets_August['clean_text'].str.cat(sep = ' ').replace(\"amp\", ' ').replace('https',' ').replace('co',' ') #τα tweets Για Αύγουστο\n",
        "text_c\n"
      ],
      "metadata": {
        "id": "pmXK-aZeRovH"
      },
      "execution_count": null,
      "outputs": []
    },
    {
      "cell_type": "code",
      "source": [
        "text_d= articles_August.apply(lambda x: x.astype(str).str.lower()) #Άρθρα μόνο για Αύγουστο\n",
        "text_d= articles_August['Title'].str.cat(sep = ' ').replace(\"amp\", ' ')\n",
        "text_d"
      ],
      "metadata": {
        "id": "795Kssq2SLZX"
      },
      "execution_count": null,
      "outputs": []
    },
    {
      "cell_type": "code",
      "source": [
        "import spacy\n",
        "!python -m spacy download el_core_news_lg"
      ],
      "metadata": {
        "id": "bCTApfmriv9G"
      },
      "execution_count": null,
      "outputs": []
    },
    {
      "cell_type": "code",
      "source": [
        "nlp = spacy.load('el_core_news_lg')"
      ],
      "metadata": {
        "id": "mq0i0JK0lNYF"
      },
      "execution_count": null,
      "outputs": []
    },
    {
      "cell_type": "code",
      "source": [
        "docb = nlp(text_b)\n",
        "text_b = ' '.join(token.lemma_ for token in docb if (len(str(token.lemma_))>2))\n",
        "text_b[0:400]"
      ],
      "metadata": {
        "id": "SsjI3E4alRIH"
      },
      "execution_count": null,
      "outputs": []
    },
    {
      "cell_type": "code",
      "source": [
        "wordcloud = WordCloud(\n",
        "    stopwords = nlp.Defaults.stop_words, \n",
        "    width = 2000,\n",
        "    height = 1000,\n",
        "    background_color = 'red'\n",
        "    ).generate(text_b) # βάζουμε το lemmatized text\n",
        "fig = plt.figure(\n",
        "    figsize = (40, 30),\n",
        "    facecolor = 'k',\n",
        "    edgecolor = 'k')\n",
        "plt.imshow(wordcloud, interpolation = 'bilinear')\n",
        "plt.axis('off')\n",
        "plt.tight_layout(pad=0)\n",
        "plt.show()"
      ],
      "metadata": {
        "id": "GkktahUd8U6b"
      },
      "execution_count": null,
      "outputs": []
    },
    {
      "cell_type": "code",
      "source": [
        "doc_a = nlp(text_a) # περνάμε το text από την nlp\n",
        "lemma_text_a = ' '.join(token.lemma_ for token in doc_a) # εφαρμόζουμε lemmatization σε κάθε λέξη\n"
      ],
      "metadata": {
        "id": "Vg4pIai7mMEB"
      },
      "execution_count": null,
      "outputs": []
    },
    {
      "cell_type": "code",
      "source": [
        "from PIL import Image"
      ],
      "metadata": {
        "id": "4nIqCHb75l2P"
      },
      "execution_count": null,
      "outputs": []
    },
    {
      "cell_type": "code",
      "source": [
        "wordcloud = WordCloud(\n",
        "    stopwords = nlp.Defaults.stop_words, \n",
        "    width = 2000,\n",
        "    height = 1000,\n",
        "    background_color = 'brown'\n",
        "    ).generate(lemma_text_a) # βάζουμε το lemmatized text\n",
        "fig = plt.figure(\n",
        "    figsize = (40, 30),\n",
        "    facecolor = 'k',\n",
        "    edgecolor = 'k')\n",
        "plt.imshow(wordcloud, interpolation = 'bilinear')\n",
        "plt.axis('off')\n",
        "plt.tight_layout(pad=0)\n",
        "plt.show()"
      ],
      "metadata": {
        "id": "Q4gsNAMjmhmT"
      },
      "execution_count": null,
      "outputs": []
    },
    {
      "cell_type": "markdown",
      "source": [
        "**Ας δούμε και του Αυγούστου που μας ενδιαφέρουν**"
      ],
      "metadata": {
        "id": "dvi6M0-7SySD"
      }
    },
    {
      "cell_type": "code",
      "source": [
        "docd = nlp(text_d) #AΡΘΡΑ\n",
        "text_d = ' '.join(token.lemma_ for token in docd if (len(str(token.lemma_))>2))\n",
        "text_d[0:400]"
      ],
      "metadata": {
        "id": "XDUSO8dgS2w6"
      },
      "execution_count": null,
      "outputs": []
    },
    {
      "cell_type": "code",
      "source": [
        "wordcloud = WordCloud(\n",
        "    stopwords = nlp.Defaults.stop_words, \n",
        "    width = 2000,\n",
        "    height = 1000,\n",
        "    background_color = 'blue'\n",
        "    ).generate(text_d) # βάζουμε το lemmatized text\n",
        "fig = plt.figure(\n",
        "    figsize = (40, 30),\n",
        "    facecolor = 'k',\n",
        "    edgecolor = 'k')\n",
        "plt.imshow(wordcloud, interpolation = 'bilinear')\n",
        "plt.axis('off')\n",
        "plt.tight_layout(pad=0)\n",
        "plt.show()"
      ],
      "metadata": {
        "id": "we6j-YaUTMOw"
      },
      "execution_count": null,
      "outputs": []
    },
    {
      "cell_type": "code",
      "source": [
        "doc_c = nlp(text_c) # περνάμε το text από την nlp\n",
        "lemma_text_c = ' '.join(token.lemma_ for token in doc_c) # εφαρμόζουμε lemmatization σε κάθε λέξη ##TWEETS\n",
        "wordcloud = WordCloud(\n",
        "    stopwords = nlp.Defaults.stop_words, \n",
        "    width = 2000,\n",
        "    height = 1000,\n",
        "    background_color = 'green'\n",
        "    ).generate(text_c) # βάζουμε το lemmatized text\n",
        "fig = plt.figure(\n",
        "    figsize = (40, 30),\n",
        "    facecolor = 'k',\n",
        "    edgecolor = 'k')\n",
        "plt.imshow(wordcloud, interpolation = 'bilinear')\n",
        "plt.axis('off')\n",
        "plt.tight_layout(pad=0)\n",
        "plt.show()"
      ],
      "metadata": {
        "id": "DIw_hgVHSpUT"
      },
      "execution_count": null,
      "outputs": []
    },
    {
      "cell_type": "markdown",
      "source": [
        "**Ας κάνουμε τώρα το vectorization με βάση τα classworks για να βρούμε τις πιο συχνές λέξεις.**"
      ],
      "metadata": {
        "id": "yi_ivOWVnut3"
      }
    },
    {
      "cell_type": "code",
      "source": [
        "from sklearn.feature_extraction.text import CountVectorizer\n",
        "cv = CountVectorizer(stop_words= nlp.Defaults.stop_words, max_features=20, ngram_range=(1, 1))\n",
        "cv2= CountVectorizer(stop_words= nlp.Defaults.stop_words, max_features=20, ngram_range=(2, 2))\n",
        "cv.vocabulary"
      ],
      "metadata": {
        "id": "EXn4baUUoMyW"
      },
      "execution_count": null,
      "outputs": []
    },
    {
      "cell_type": "code",
      "source": [
        "count_vector_article_general = cv.fit_transform(articles['Title'])"
      ],
      "metadata": {
        "id": "DoOJuQT9n_tI"
      },
      "execution_count": null,
      "outputs": []
    },
    {
      "cell_type": "code",
      "source": [
        "count_vector_article_general.shape"
      ],
      "metadata": {
        "id": "SKequJ0koVoE"
      },
      "execution_count": null,
      "outputs": []
    },
    {
      "cell_type": "code",
      "source": [
        "count_vector_article_general_results = pd.DataFrame(count_vector_article_general.toarray(), columns=cv.get_feature_names()) \n",
        "\n",
        "count_vector_article_general_results.head()"
      ],
      "metadata": {
        "id": "tTpYT5ZhoWeG"
      },
      "execution_count": null,
      "outputs": []
    },
    {
      "cell_type": "code",
      "source": [
        "count_vector_article_general_results.sum(axis =0).sort_values(ascending = False).head(15)"
      ],
      "metadata": {
        "id": "9J9kfFXOojXp"
      },
      "execution_count": null,
      "outputs": []
    },
    {
      "cell_type": "code",
      "source": [
        "count_vector_article_general_results.sum(axis =0).sort_values(ascending = False).head(15).plot(kind='bar', figsize=(15,7), color='maroon', title=\"News 24/7 most used words about fire\")"
      ],
      "metadata": {
        "id": "RF13pjjetUoZ"
      },
      "execution_count": null,
      "outputs": []
    },
    {
      "cell_type": "markdown",
      "source": [
        "**Πάμε να το κάνουμε και για τα ζευγάρια λέξεων**"
      ],
      "metadata": {
        "id": "iacaufNmp7yf"
      }
    },
    {
      "cell_type": "code",
      "source": [
        "bigrams_news247_general = cv2.fit_transform(articles['Title'])\n",
        "bigrams_news247_general_results = pd.DataFrame(bigrams_news247_general.toarray(), columns=cv2.get_feature_names()) \n",
        "bigrams_news247_general_results.head()"
      ],
      "metadata": {
        "id": "m01HUAAiqCiX"
      },
      "execution_count": null,
      "outputs": []
    },
    {
      "cell_type": "code",
      "source": [
        "bigrams_news247_general_results.sum(axis =0).sort_values(ascending = False).head(15)"
      ],
      "metadata": {
        "id": "BOlqm9iVqTXQ"
      },
      "execution_count": null,
      "outputs": []
    },
    {
      "cell_type": "code",
      "source": [
        "bigrams_news247_general_results.sum(axis =0).sort_values(ascending = True).tail(16).plot(kind='barh',figsize=(15,7), color='tomato',title='News 24/7 most used bigrams')"
      ],
      "metadata": {
        "id": "-zDuWegxtp6E"
      },
      "execution_count": null,
      "outputs": []
    },
    {
      "cell_type": "markdown",
      "source": [
        "**Ας κάνουμε την ίδια διαδικασία για το Twitter**"
      ],
      "metadata": {
        "id": "LfMzOlYSqcdy"
      }
    },
    {
      "cell_type": "code",
      "source": [
        "count_vector_Tweetgeneral = cv.fit_transform(clean_tweets['clean_text'])"
      ],
      "metadata": {
        "id": "f1xl26F_qgwR"
      },
      "execution_count": null,
      "outputs": []
    },
    {
      "cell_type": "code",
      "source": [
        "count_vector_Tweetgeneral_results = pd.DataFrame(count_vector_Tweetgeneral.toarray(), columns=cv.get_feature_names()) \n",
        "count_vector_Tweetgeneral_results.head()"
      ],
      "metadata": {
        "id": "OT82l5Oiq38g"
      },
      "execution_count": null,
      "outputs": []
    },
    {
      "cell_type": "code",
      "source": [
        "count_vector_Tweetgeneral_results.sum(axis =0).sort_values(ascending = False).head(15)"
      ],
      "metadata": {
        "id": "n8ovSxZQq7v2"
      },
      "execution_count": null,
      "outputs": []
    },
    {
      "cell_type": "code",
      "source": [
        "count_vector_Tweetgeneral_results.sum(axis =0).sort_values(ascending = False).head(15).plot(kind='bar', figsize=(15,7), color='deepskyblue', title=\"Tweet Account most used words\")"
      ],
      "metadata": {
        "id": "5wB702Siul7q"
      },
      "execution_count": null,
      "outputs": []
    },
    {
      "cell_type": "code",
      "source": [
        "bigrams_twitter_general = cv2.fit_transform(clean_tweets['clean_text'])\n",
        "bigrams_twitter_general_results = pd.DataFrame(bigrams_twitter_general.toarray(), columns=cv2.get_feature_names()) \n",
        "bigrams_twitter_general_results.head()"
      ],
      "metadata": {
        "id": "JigQLEfrr7gD"
      },
      "execution_count": null,
      "outputs": []
    },
    {
      "cell_type": "code",
      "source": [
        "bigrams_twitter_general_results.sum(axis =0).sort_values(ascending = False).head(16) "
      ],
      "metadata": {
        "id": "CzrljgPosIs_"
      },
      "execution_count": null,
      "outputs": []
    },
    {
      "cell_type": "code",
      "source": [
        "bigrams_twitter_general_results.sum(axis =0).sort_values(ascending = True).tail(16).plot(kind='barh',figsize=(15,7), color='navy',title='Tweet account most used bigrams')"
      ],
      "metadata": {
        "id": "0SS-rOmhvG01"
      },
      "execution_count": null,
      "outputs": []
    },
    {
      "cell_type": "markdown",
      "source": [
        "**Πάμε να κάνουμε την ίδια διαδικασία για την Περίοδο του Αυγούστου 2021.**"
      ],
      "metadata": {
        "id": "8ZpsltS3sT3H"
      }
    },
    {
      "cell_type": "code",
      "source": [
        "count_vector_article_August = cv.fit_transform(articles_August['Title'])"
      ],
      "metadata": {
        "id": "JIw9zxjffGbC"
      },
      "execution_count": null,
      "outputs": []
    },
    {
      "cell_type": "code",
      "source": [
        "count_vector_article_August_results = pd.DataFrame(count_vector_article_August.toarray(), columns=cv.get_feature_names()) \n",
        "\n",
        "count_vector_article_August_results.head()"
      ],
      "metadata": {
        "id": "eX79uF9kfVeW"
      },
      "execution_count": null,
      "outputs": []
    },
    {
      "cell_type": "code",
      "source": [
        "count_vector_article_August_results.sum(axis =0).sort_values(ascending = False).head(15)"
      ],
      "metadata": {
        "id": "Qrvg6pe3fcmj"
      },
      "execution_count": null,
      "outputs": []
    },
    {
      "cell_type": "code",
      "source": [
        "count_vector_article_August_results.sum(axis =0).sort_values(ascending = False).head(15).plot(kind='bar', figsize=(15,7), color='silver', title=\"Most used word in News24/7 about fire in August\",fontsize=22)"
      ],
      "metadata": {
        "id": "4d_-_wJNf82m"
      },
      "execution_count": null,
      "outputs": []
    },
    {
      "cell_type": "code",
      "source": [
        "bigrams_article_August = cv2.fit_transform(articles_August['Title'])"
      ],
      "metadata": {
        "id": "v01J-9yEgWeZ"
      },
      "execution_count": null,
      "outputs": []
    },
    {
      "cell_type": "code",
      "source": [
        "bigrams_article_August_results = pd.DataFrame(bigrams_article_August.toarray(), columns=cv2.get_feature_names()) \n",
        "\n",
        "bigrams_article_August_results.head()"
      ],
      "metadata": {
        "id": "liV-Sb8zgKd7"
      },
      "execution_count": null,
      "outputs": []
    },
    {
      "cell_type": "code",
      "source": [
        "bigrams_article_August_results.sum(axis =0).sort_values(ascending = False).head(15)"
      ],
      "metadata": {
        "id": "47xahZDbgmtl"
      },
      "execution_count": null,
      "outputs": []
    },
    {
      "cell_type": "code",
      "source": [
        "bigrams_article_August_results.sum(axis =0).sort_values(ascending = True).tail(15).plot(kind='barh', figsize=(15,7), color='orange', title=\"News 24/7 most bigrams used about fire\",fontsize=20)"
      ],
      "metadata": {
        "id": "r6SJcPPrg041"
      },
      "execution_count": null,
      "outputs": []
    },
    {
      "cell_type": "code",
      "source": [
        "#Και τέλος για το Twitter τον Αύγουστο του 2021\n",
        "count_vector_tweets_August = cv.fit_transform(clean_tweets_August['clean_text'])\n",
        "count_vector_tweets_August_results = pd.DataFrame(count_vector_tweets_August.toarray(), columns=cv.get_feature_names()) \n",
        "\n",
        "count_vector_tweets_August_results.head()\n"
      ],
      "metadata": {
        "id": "vy9LovQjhPCh"
      },
      "execution_count": null,
      "outputs": []
    },
    {
      "cell_type": "code",
      "source": [
        "count_vector_tweets_August_results.sum(axis =0).sort_values(ascending = False).head(15)"
      ],
      "metadata": {
        "id": "AX6QGFOyh-RH"
      },
      "execution_count": null,
      "outputs": []
    },
    {
      "cell_type": "code",
      "source": [
        "count_vector_tweets_August_results.sum(axis =0).sort_values(ascending = False).head(15).plot(kind='bar', figsize=(15,7), color='lawngreen', title=\"Most used word by twitter account in August\",fontsize=22)"
      ],
      "metadata": {
        "id": "JR_JyhKohsyp"
      },
      "execution_count": null,
      "outputs": []
    },
    {
      "cell_type": "code",
      "source": [
        "bigrams_tweets_August = cv2.fit_transform(clean_tweets_August['clean_text'])\n",
        "bigrams_tweets_August_results = pd.DataFrame(bigrams_tweets_August.toarray(), columns=cv2.get_feature_names()) \n",
        "\n",
        "bigrams_tweets_August_results.head()"
      ],
      "metadata": {
        "id": "293yCGYGj_6G"
      },
      "execution_count": null,
      "outputs": []
    },
    {
      "cell_type": "code",
      "source": [
        "bigrams_tweets_August_results.sum(axis =0).sort_values(ascending = False).head(15)"
      ],
      "metadata": {
        "id": "87cZKzBQkVav"
      },
      "execution_count": null,
      "outputs": []
    },
    {
      "cell_type": "code",
      "source": [
        "bigrams_tweets_August_results.sum(axis =0).sort_values(ascending = True).tail(15).plot(kind='barh', figsize=(15,7), color='indigo', title=\"Most used bigrams by twitter account in August\",fontsize=22)"
      ],
      "metadata": {
        "id": "GNgyyZ_QkgV5"
      },
      "execution_count": null,
      "outputs": []
    },
    {
      "cell_type": "markdown",
      "source": [
        "# Ζητούμενο 8+9+10: Χρησιμοποιώ το πεδίο της ημερομηνίας ως index στο dataframe ώστε να αξιοποιήσω τις λειτουργίες της χρονοσειράς(resample()). Κάνοντας χρήση του ελληνικού λεξικού για sentiment anaysis του NRC να βρω την πολικότητα (θετική - αρνητική) και τα συναισθήματα των κειμένων, και να τα αποθηκεύσω σε νέες στήλες στο dataframe των δεδομένων. Να δημιουργήσω γραφήματα ομαδοποιώντας μέσω του resample() την πολικότητα των άρθρων ανά ημέρα/μήνα/3μηνο/έτος ανάλογα με το θέμα."
      ],
      "metadata": {
        "id": "QabkSdQcw06B"
      }
    },
    {
      "cell_type": "code",
      "source": [
        "%matplotlib inline\n",
        "import glob"
      ],
      "metadata": {
        "id": "AbdSdgetzbfb"
      },
      "execution_count": null,
      "outputs": []
    },
    {
      "cell_type": "code",
      "source": [
        "#Ξεκινάμε με την συναισθηματική ανάλυση των κειμένων\n",
        "filepath = \"https://raw.githubusercontent.com/datajour-gr/Data_journalism/master/week10/NRC_GREEK_Translated_6_2020.csv\"\n",
        "emolex_df = pd.read_csv(filepath)\n",
        "emolex_df.head()"
      ],
      "metadata": {
        "id": "DX4fQnfy0FED"
      },
      "execution_count": null,
      "outputs": []
    },
    {
      "cell_type": "code",
      "source": [
        "emolex_df.tail()"
      ],
      "metadata": {
        "id": "TRQ0q0iV0Gr-"
      },
      "execution_count": null,
      "outputs": []
    },
    {
      "cell_type": "code",
      "source": [
        "emolex_df = emolex_df.drop_duplicates(subset=['word'])\n",
        "emolex_df = emolex_df.dropna()\n",
        "emolex_df.reset_index(inplace = True)"
      ],
      "metadata": {
        "id": "LHUY3BPd0JOF"
      },
      "execution_count": null,
      "outputs": []
    },
    {
      "cell_type": "code",
      "source": [
        "vec = CountVectorizer(analyzer = 'word', vocabulary = emolex_df.word, \n",
        "                      strip_accents = 'unicode',  \n",
        "                      stop_words= nlp.Defaults.stop_words,\n",
        "                      ngram_range=(1, 2))"
      ],
      "metadata": {
        "id": "Ug2g2h4D0UMQ"
      },
      "execution_count": null,
      "outputs": []
    },
    {
      "cell_type": "code",
      "source": [
        "angry_words = emolex_df[emolex_df.Anger == 1]['word']\n",
        "positive_words = emolex_df[emolex_df.Positive == 1]['word']\n",
        "sadness_words = emolex_df[emolex_df.Sadness == 1]['word']\n",
        "surprise_words = emolex_df[emolex_df.Surprise == 1]['word']\n",
        "disgust_words = emolex_df[emolex_df.Disgust == 1]['word']\n",
        "anticipation_words = emolex_df[emolex_df.Anticipation == 1]['word']\n",
        "negative_words = emolex_df[emolex_df.Negative == 1]['word']\n",
        "joy_words = emolex_df[emolex_df.Joy == 1]['word']\n",
        "trust_words = emolex_df[emolex_df.Trust == 1]['word']\n",
        "fear_words = emolex_df[emolex_df.Fear == 1]['word']"
      ],
      "metadata": {
        "id": "xXydtgJa0okM"
      },
      "execution_count": null,
      "outputs": []
    },
    {
      "cell_type": "code",
      "source": [
        "#Θα κάνουμε την διαδικασία για όλα τα df\n",
        "matrix = vec.fit_transform(articles['Text'])\n",
        "vocab = vec.get_feature_names()\n",
        "wordcount_df = pd.DataFrame(matrix.toarray(), columns=vocab)\n",
        "wordcount_df.head()"
      ],
      "metadata": {
        "id": "bvWVj-Hn0jAC"
      },
      "execution_count": null,
      "outputs": []
    },
    {
      "cell_type": "code",
      "source": [
        "matrix2 = vec.fit_transform(clean_tweets['clean_text'])\n",
        "vocab = vec.get_feature_names()\n",
        "wordcount_df2 = pd.DataFrame(matrix2.toarray(), columns=vocab)\n",
        "wordcount_df2.head()"
      ],
      "metadata": {
        "id": "LFnmxUpnl_7X"
      },
      "execution_count": null,
      "outputs": []
    },
    {
      "cell_type": "code",
      "source": [
        "matrix3 = vec.fit_transform(articles_August['Title'])\n",
        "vocab = vec.get_feature_names()\n",
        "wordcount_df3 = pd.DataFrame(matrix3.toarray(), columns=vocab)\n",
        "wordcount_df3.head()"
      ],
      "metadata": {
        "id": "oxfCKYgdqsdH"
      },
      "execution_count": null,
      "outputs": []
    },
    {
      "cell_type": "code",
      "source": [
        "matrix4 = vec.fit_transform(clean_tweets_August['clean_text'])\n",
        "vocab = vec.get_feature_names()\n",
        "wordcount_df4 = pd.DataFrame(matrix4.toarray(), columns=vocab)\n",
        "wordcount_df4.head()"
      ],
      "metadata": {
        "id": "dVA1YI_xq0uz"
      },
      "execution_count": null,
      "outputs": []
    },
    {
      "cell_type": "code",
      "source": [
        "emolex_df.head()"
      ],
      "metadata": {
        "id": "0-dIviK21Q35"
      },
      "execution_count": null,
      "outputs": []
    },
    {
      "cell_type": "code",
      "source": [
        "articles['anger'] = wordcount_df[angry_words].sum(axis=1)\n",
        "articles['positivity'] = wordcount_df[positive_words].sum(axis=1)\n",
        "articles['joy'] = wordcount_df[joy_words].sum(axis=1)\n",
        "articles['disgust'] = wordcount_df[disgust_words].sum(axis=1)\n",
        "articles['surprise'] = wordcount_df[surprise_words].sum(axis=1)\n",
        "articles['trust'] = wordcount_df[trust_words].sum(axis=1)\n",
        "articles['anticipation'] = wordcount_df[anticipation_words].sum(axis=1)\n",
        "articles['sadness'] = wordcount_df[sadness_words].sum(axis=1)\n",
        "articles['negative'] = wordcount_df[negative_words].sum(axis=1)\n",
        "articles['fear'] = wordcount_df[fear_words].sum(axis=1)"
      ],
      "metadata": {
        "id": "k3C4XB8o1S0v"
      },
      "execution_count": null,
      "outputs": []
    },
    {
      "cell_type": "code",
      "source": [
        "articles"
      ],
      "metadata": {
        "id": "XlveYhU0qEF6"
      },
      "execution_count": null,
      "outputs": []
    },
    {
      "cell_type": "code",
      "source": [
        "clean_tweets['anger'] = wordcount_df2[angry_words].sum(axis=1)\n",
        "clean_tweets['positivity'] = wordcount_df2[positive_words].sum(axis=1)\n",
        "clean_tweets['joy'] = wordcount_df2[joy_words].sum(axis=1)\n",
        "clean_tweets['disgust'] = wordcount_df2[disgust_words].sum(axis=1)\n",
        "clean_tweets['surprise'] = wordcount_df2[surprise_words].sum(axis=1)\n",
        "clean_tweets['trust'] = wordcount_df2[trust_words].sum(axis=1)\n",
        "clean_tweets['anticipation'] = wordcount_df2[anticipation_words].sum(axis=1)\n",
        "clean_tweets['sadness'] = wordcount_df2[sadness_words].sum(axis=1)\n",
        "clean_tweets['negative'] = wordcount_df2[negative_words].sum(axis=1)\n",
        "clean_tweets['fear'] = wordcount_df2[fear_words].sum(axis=1)"
      ],
      "metadata": {
        "id": "FLVfLMahp0u4"
      },
      "execution_count": null,
      "outputs": []
    },
    {
      "cell_type": "code",
      "source": [
        "clean_tweets"
      ],
      "metadata": {
        "id": "U8cFat-TqF4a"
      },
      "execution_count": null,
      "outputs": []
    },
    {
      "cell_type": "code",
      "source": [
        "articles_August['anger'] = wordcount_df3[angry_words].sum(axis=1)\n",
        "articles_August['positivity'] = wordcount_df3[positive_words].sum(axis=1)\n",
        "articles_August['joy'] = wordcount_df3[joy_words].sum(axis=1)\n",
        "articles_August['disgust'] = wordcount_df3[disgust_words].sum(axis=1)\n",
        "articles_August['surprise'] = wordcount_df3[surprise_words].sum(axis=1)\n",
        "articles_August['trust'] = wordcount_df3[trust_words].sum(axis=1)\n",
        "articles_August['anticipation'] = wordcount_df3[anticipation_words].sum(axis=1)\n",
        "articles_August['sadness'] = wordcount_df3[sadness_words].sum(axis=1)\n",
        "articles_August['negative'] = wordcount_df3[negative_words].sum(axis=1)\n",
        "articles_August['fear'] = wordcount_df3[fear_words].sum(axis=1)"
      ],
      "metadata": {
        "id": "hNDSSLgjqISV"
      },
      "execution_count": null,
      "outputs": []
    },
    {
      "cell_type": "code",
      "source": [
        "articles_August"
      ],
      "metadata": {
        "id": "Um44I46mrXjh"
      },
      "execution_count": null,
      "outputs": []
    },
    {
      "cell_type": "code",
      "source": [
        "clean_tweets_August['anger'] = wordcount_df4[angry_words].sum(axis=1)\n",
        "clean_tweets_August['positivity'] = wordcount_df4[positive_words].sum(axis=1)\n",
        "clean_tweets_August['joy'] = wordcount_df4[joy_words].sum(axis=1)\n",
        "clean_tweets_August['disgust'] = wordcount_df4[disgust_words].sum(axis=1)\n",
        "clean_tweets_August['surprise'] = wordcount_df4[surprise_words].sum(axis=1)\n",
        "clean_tweets_August['trust'] = wordcount_df4[trust_words].sum(axis=1)\n",
        "clean_tweets_August['anticipation'] = wordcount_df4[anticipation_words].sum(axis=1)\n",
        "clean_tweets_August['sadness'] = wordcount_df4[sadness_words].sum(axis=1)\n",
        "clean_tweets_August['negative'] = wordcount_df4[negative_words].sum(axis=1)\n",
        "clean_tweets_August['fear'] = wordcount_df4[fear_words].sum(axis=1)"
      ],
      "metadata": {
        "id": "90sDoOZUrfIq"
      },
      "execution_count": null,
      "outputs": []
    },
    {
      "cell_type": "code",
      "source": [
        "clean_tweets_August"
      ],
      "metadata": {
        "id": "FGFyEAQ9r1lP"
      },
      "execution_count": null,
      "outputs": []
    },
    {
      "cell_type": "code",
      "source": [
        "articles['positivity'].sum() #Βαθμος θετικότητας στα συλλεγμένα άρθρα"
      ],
      "metadata": {
        "id": "dsaUWFIm2DDy"
      },
      "execution_count": null,
      "outputs": []
    },
    {
      "cell_type": "code",
      "source": [
        "articles['negative'].sum() #βαθμός αρνητικότητας στα συλλεγμένα άρθρα"
      ],
      "metadata": {
        "id": "aEOm23Oe2IK0"
      },
      "execution_count": null,
      "outputs": []
    },
    {
      "cell_type": "code",
      "source": [
        "resample_articles=articles.set_index('datetime')\n",
        "resample_articles"
      ],
      "metadata": {
        "id": "-o_qu777mxTd"
      },
      "execution_count": null,
      "outputs": []
    },
    {
      "cell_type": "code",
      "source": [
        "articles_August"
      ],
      "metadata": {
        "id": "v0q1s7jim0yV"
      },
      "execution_count": null,
      "outputs": []
    },
    {
      "cell_type": "markdown",
      "source": [
        "**Ας κάνουμε την ίδια διαδικασία και για τα Tweets**"
      ],
      "metadata": {
        "id": "1TtyPg9Z34oI"
      }
    },
    {
      "cell_type": "code",
      "source": [
        "clean_tweets['positivity'].sum() #Βαθμος θετικότητας στα συλλεγμένα tweets"
      ],
      "metadata": {
        "id": "kRgE5iun4U8B"
      },
      "execution_count": null,
      "outputs": []
    },
    {
      "cell_type": "code",
      "source": [
        "clean_tweets['negative'].sum() #Βαθμος θετικότητας στα συλλεγμένα tweets"
      ],
      "metadata": {
        "id": "PXySitVf4Zom"
      },
      "execution_count": null,
      "outputs": []
    },
    {
      "cell_type": "code",
      "source": [
        "#Για να προχωρήσω παραπάνω στην συναισθηματική ανάλυσh, θα χρησιμοποιήσω το Date ως index\n",
        "#Αρχικά θα φτιάξω κάποια καινούρια df Που θα έχουν το date ως index\n",
        "resample_articles=articles.set_index('datetime')\n",
        "resample_articles\n"
      ],
      "metadata": {
        "id": "7BnoB4eA2Vzn"
      },
      "execution_count": null,
      "outputs": []
    },
    {
      "cell_type": "code",
      "source": [
        "resample_tweets=clean_tweets.set_index('datetime')\n",
        "resample_tweets"
      ],
      "metadata": {
        "id": "zX7xQy_a5g_V"
      },
      "execution_count": null,
      "outputs": []
    },
    {
      "cell_type": "code",
      "source": [
        ""
      ],
      "metadata": {
        "id": "Gt2_MjPlDrct"
      },
      "execution_count": null,
      "outputs": []
    },
    {
      "cell_type": "code",
      "source": [
        "resample_tweets"
      ],
      "metadata": {
        "id": "nYnx3AtwDObq"
      },
      "execution_count": null,
      "outputs": []
    },
    {
      "cell_type": "code",
      "source": [
        "#As ξεκινήσουμε νέες αναλύσεις στα δεδομένα\n",
        "resample_articles[['anger','sadness','negative','fear']].sum().plot(figsize=(15,7)) #αρχικά για τα αρνητικά"
      ],
      "metadata": {
        "id": "o62rHJM75mUq"
      },
      "execution_count": null,
      "outputs": []
    },
    {
      "cell_type": "code",
      "source": [
        "resample_articles[['positivity','joy','trust','surprise','anticipation']].sum().plot(figsize=(15,7)) #Tα θετικά"
      ],
      "metadata": {
        "id": "YcOSGCZN6D9v"
      },
      "execution_count": null,
      "outputs": []
    },
    {
      "cell_type": "code",
      "source": [
        "t = resample_articles[['anger','positivity','joy','surprise','trust','anticipation','sadness','negative','fear']].sum().sort_values(ascending= False).plot(kind='bar',color=('C0','C1','C2','C3','C4','C5','C6','C7','C9'), figsize=(10,7))\n",
        "t.set_title('Emotions in News247 articles about fire')\n",
        "t.spines['right'].set_visible(False)\n",
        "t.spines['top'].set_visible(False)\n",
        "t.set_xlabel('Emotions')"
      ],
      "metadata": {
        "id": "6o7akyQA6UE0"
      },
      "execution_count": null,
      "outputs": []
    },
    {
      "cell_type": "code",
      "source": [
        "ax = resample_articles['positivity'].resample('M').mean().plot(figsize=(16,4), \n",
        "                                                          color = 'g', label='pos')\n",
        "resample_articles['negative'].resample('M').mean().plot(figsize=(16,4), ax = ax, \n",
        "                                                   label = 'neg', color = 'r')\n",
        "resample_articles['trust'].resample('M').mean().plot(figsize=(16,4), ax = ax, \n",
        "                                                label = 'trust',color = 'blue').legend()\n",
        "resample_articles['fear'].resample('M').mean().plot(figsize=(16,4), ax = ax, \n",
        "                                                label = 'fear',color = 'black').legend()\n",
        "resample_articles['anger'].resample('M').mean().plot(figsize=(16,4), ax = ax, \n",
        "                                                label = 'anger',color = 'purple').legend()"
      ],
      "metadata": {
        "id": "f1r-hwhq6qaw"
      },
      "execution_count": null,
      "outputs": []
    },
    {
      "cell_type": "code",
      "source": [
        "#Aς κάνουμε την ίδια διαδικασία και για τα tweets!\n",
        "resample_tweets[['anger','sadness','negative','fear']].sum().plot(figsize=(15,7)) #αρχικά για τα αρνητικά"
      ],
      "metadata": {
        "id": "EogrUN9D9yuw"
      },
      "execution_count": null,
      "outputs": []
    },
    {
      "cell_type": "code",
      "source": [
        "resample_tweets[['positivity','joy','trust','surprise','anticipation']].sum().plot(figsize=(15,7)) #Tα θετικά"
      ],
      "metadata": {
        "id": "jrTnEtnZ-KYN"
      },
      "execution_count": null,
      "outputs": []
    },
    {
      "cell_type": "code",
      "source": [
        "t = resample_tweets[['anger','positivity','joy','surprise','trust','anticipation','sadness','negative','fear']].sum().sort_values(ascending= False).plot(kind='bar',color=('C0','C1','C2','C3','C4','C5','C6','C7','C9'), figsize=(10,7))\n",
        "t.set_title('Emotions in tweets about fire')\n",
        "t.spines['right'].set_visible(False)\n",
        "t.spines['top'].set_visible(False)\n",
        "t.set_xlabel('Emotions')"
      ],
      "metadata": {
        "id": "w1vJXP78-PmJ"
      },
      "execution_count": null,
      "outputs": []
    },
    {
      "cell_type": "code",
      "source": [
        "resample_tweets"
      ],
      "metadata": {
        "id": "Ue09w24S-iia"
      },
      "execution_count": null,
      "outputs": []
    },
    {
      "cell_type": "code",
      "source": [
        "import matplotlib.pyplot as plt\n",
        "plt.style.use('ggplot')"
      ],
      "metadata": {
        "id": "U30miay2_wqC"
      },
      "execution_count": null,
      "outputs": []
    },
    {
      "cell_type": "code",
      "source": [
        "#Aς κάνουμε και κάποια επιπλέον resamples\n",
        "resample_articles['clean_text'].str.len().groupby(by=resample_articles.index.month).mean().plot(figsize=(10,10))"
      ],
      "metadata": {
        "id": "-quW_7w2-5px"
      },
      "execution_count": null,
      "outputs": []
    },
    {
      "cell_type": "code",
      "source": [
        "resample_articles['Text'].str.len().resample('D').mean().plot(figsize=(10,10),color='R')"
      ],
      "metadata": {
        "id": "s3R530AEAKw6"
      },
      "execution_count": null,
      "outputs": []
    },
    {
      "cell_type": "code",
      "source": [
        "resample_articles['Text'].str.len().resample('M').mean().plot(figsize=(10,10))"
      ],
      "metadata": {
        "id": "p210v6JTBGFs"
      },
      "execution_count": null,
      "outputs": []
    },
    {
      "cell_type": "code",
      "source": [
        "#KAI TOY AYΓΟΥΣΤΟΥ\n",
        "resample_tweets_August=clean_tweets_August.set_index('datetime')\n",
        "resample_tweets_August"
      ],
      "metadata": {
        "id": "obbZ-rDo9xC4"
      },
      "execution_count": null,
      "outputs": []
    },
    {
      "cell_type": "code",
      "source": [
        "resample_articles_August=articles_August.set_index('datetime')\n",
        "resample_articles_August"
      ],
      "metadata": {
        "id": "UeJK0l9n94TU"
      },
      "execution_count": null,
      "outputs": []
    },
    {
      "cell_type": "code",
      "source": [
        "import matplotlib.cbook as cbook\n",
        "import matplotlib.image as image"
      ],
      "metadata": {
        "id": "s9VQEa59-MCb"
      },
      "execution_count": null,
      "outputs": []
    },
    {
      "cell_type": "code",
      "source": [
        "with cbook.get_sample_data('/content/gdrive/MyDrive/evoia.webp') as file:\n",
        "  im = image.imread(file)\n",
        "fig, ax = plt.subplots()\n",
        "ax = resample_articles_August['positivity'].resample('D').mean().plot(figsize=(12,8), \n",
        "                                                               color = 'g', label='positive words')\n",
        "resample_articles_August['negative'].resample('D').mean().plot(figsize=(12,8), ax = ax, \n",
        "                                                label = 'negative words',color = 'r').legend()\n",
        "ax.set_facecolor('white')\n",
        "fig.suptitle ('News24|7 about fire in August')\n",
        "fig.figimage(im, -200, -40, alpha=.2)\n",
        "plt.show()"
      ],
      "metadata": {
        "id": "cN68MfBy-NB9"
      },
      "execution_count": null,
      "outputs": []
    },
    {
      "cell_type": "code",
      "source": [
        "with cbook.get_sample_data('/content/gdrive/MyDrive/evoia_giagia.webp') as file:\n",
        "  im = image.imread(file)\n",
        "fig, ax = plt.subplots()\n",
        "\n",
        "ax = resample_articles_August['anger'].resample('D').mean().plot(figsize=(14,10), \n",
        "                                                               color = 'r', label='θυμός')\n",
        "resample_articles_August['joy'].resample('D').mean().plot(figsize=(14,10), ax = ax, \n",
        "                                                label = 'χαρά',color = 'tab:pink')\n",
        "resample_articles_August['disgust'].resample('D').mean().plot(figsize=(14,10), ax = ax, \n",
        "                                                   label = 'αηδία', color = 'tab:brown')\n",
        "resample_articles_August['surprise'].resample('D').mean().plot(figsize=(14,10), ax = ax, \n",
        "                                                label = 'έκπληξη',color = 'orange')\n",
        "resample_articles_August['trust'].resample('D').mean().plot(figsize=(14,10), ax = ax, \n",
        "                                                   label = 'εμπιστοσύνη', color = 'b')\n",
        "resample_articles_August['anticipation'].resample('D').mean().plot(figsize=(14,10), ax = ax, \n",
        "                                                label = 'προσμονή',color = 'g')\n",
        "resample_articles_August['sadness'].resample('D').mean().plot(figsize=(14,10), ax = ax, \n",
        "                                                label = 'λύπη',color = 'm')\n",
        "resample_articles_August['fear'].resample('D').mean().plot(figsize=(14,10), ax = ax, \n",
        "                                                label = 'φόβος',color = 'c').legend()\n",
        "ax.set_facecolor('white')\n",
        "fig.suptitle (\"News24|7.gr Sentiment Analysis about the fires in August\")\n",
        "fig.figimage(im, -50, -30, alpha=.2)\n",
        "plt.show()"
      ],
      "metadata": {
        "id": "llpsd5-r_k8o"
      },
      "execution_count": null,
      "outputs": []
    },
    {
      "cell_type": "markdown",
      "source": [
        "Δεν είναι καθόλου τυχαίο ότι βλέπουμε πολύ μεγάλη κινητικότητα τον Αύγουστο του 2021"
      ],
      "metadata": {
        "id": "umX44k0OBOiL"
      }
    },
    {
      "cell_type": "markdown",
      "source": [
        "#  Ζητούμενο 11: Να αξιοποιήσω την διανυσματοποίηση των κειμένων (CountVectorizer()),και τη χρήση της ομοιότητας κειμένων μέσω της συνάρτησης cosine_similarity()ώστε να βρω ομοιότητα μεταξύ άρθρων και tweets,μέσω γραφήματος τύπου heatmap.\n"
      ],
      "metadata": {
        "id": "h5twTd1dET5Z"
      }
    },
    {
      "cell_type": "code",
      "source": [
        "from sklearn.feature_extraction.text import TfidfVectorizer"
      ],
      "metadata": {
        "id": "2BttP-fTEiHK"
      },
      "execution_count": null,
      "outputs": []
    },
    {
      "cell_type": "code",
      "source": [
        "tfidf_vectorizer = TfidfVectorizer(stop_words= nlp.Defaults.stop_words, max_features=50)\n",
        "tfidf_matrix_train1 = tfidf_vectorizer.fit_transform(articles['Title'])#Bάζω ανάλογα με τον Τίτλο των άρθρων γιατι ξέρω ότι δεν θα δουλέψει με το κείμενο(σε παλαιότερη δοκιμή)"
      ],
      "metadata": {
        "id": "YLxICKfUEwac"
      },
      "execution_count": null,
      "outputs": []
    },
    {
      "cell_type": "code",
      "source": [
        "resultsWb = pd.DataFrame(tfidf_matrix_train1.toarray(), columns=tfidf_vectorizer.get_feature_names()) \n",
        "resultsWb.head()"
      ],
      "metadata": {
        "id": "0ck7QsQWE3vY"
      },
      "execution_count": null,
      "outputs": []
    },
    {
      "cell_type": "code",
      "source": [
        "resultsWb.sum(axis =0).sort_values(ascending = False)"
      ],
      "metadata": {
        "id": "-VaD91nvE7Xy"
      },
      "execution_count": null,
      "outputs": []
    },
    {
      "cell_type": "code",
      "source": [
        "tfidf_matrix_train2 = tfidf_vectorizer.fit_transform(clean_tweets['clean_text'])"
      ],
      "metadata": {
        "id": "8G_YXALCFAhW"
      },
      "execution_count": null,
      "outputs": []
    },
    {
      "cell_type": "code",
      "source": [
        "resultsTw = pd.DataFrame(tfidf_matrix_train2.toarray(), columns=tfidf_vectorizer.get_feature_names()) \n",
        "resultsTw.head()"
      ],
      "metadata": {
        "id": "ZRZjbG_QFG5N"
      },
      "execution_count": null,
      "outputs": []
    },
    {
      "cell_type": "code",
      "source": [
        "resultsTw.sum(axis =0).sort_values(ascending = False)"
      ],
      "metadata": {
        "id": "jRuz5Y62FL3x"
      },
      "execution_count": null,
      "outputs": []
    },
    {
      "cell_type": "code",
      "source": [
        "from sklearn.metrics.pairwise import cosine_similarity\n",
        "\n",
        "print(\"cosine scores ==> \",cosine_similarity(tfidf_matrix_train1[0:1], tfidf_matrix_train2))"
      ],
      "metadata": {
        "id": "vmo7sHfQFs7Z"
      },
      "execution_count": null,
      "outputs": []
    },
    {
      "cell_type": "code",
      "source": [
        "arr = cosine_similarity(tfidf_matrix_train1, tfidf_matrix_train2)"
      ],
      "metadata": {
        "id": "qB3zMzUZFuDU"
      },
      "execution_count": null,
      "outputs": []
    },
    {
      "cell_type": "code",
      "source": [
        "import numpy as np; np.random.seed(0)\n",
        "import seaborn as sns; sns.set_theme()\n",
        "data = arr[100:150]\n",
        "plt.figure(figsize = (15,10))\n",
        "ax = sns.heatmap(data)\n",
        "plt.suptitle (\"How much similar are the articles and the Tweets about fire?\")\n",
        "plt.show()"
      ],
      "metadata": {
        "id": "S1EgyHJiF_XB"
      },
      "execution_count": null,
      "outputs": []
    },
    {
      "cell_type": "code",
      "source": [
        "#Και για τον Αύγουστο\n",
        "tfidf_matrix_train3 = tfidf_vectorizer.fit_transform(clean_tweets_August['clean_text'])"
      ],
      "metadata": {
        "id": "nWKljZnQArwQ"
      },
      "execution_count": null,
      "outputs": []
    },
    {
      "cell_type": "code",
      "source": [
        "results3 = pd.DataFrame(tfidf_matrix_train3.toarray(), columns=tfidf_vectorizer.get_feature_names()) \n",
        "results3.head()"
      ],
      "metadata": {
        "id": "-87Kd7oZBD2k"
      },
      "execution_count": null,
      "outputs": []
    },
    {
      "cell_type": "code",
      "source": [
        "results3.sum(axis =0).sort_values(ascending = False)"
      ],
      "metadata": {
        "id": "513rAoCtBXOt"
      },
      "execution_count": null,
      "outputs": []
    },
    {
      "cell_type": "code",
      "source": [
        "tfidf_matrix_train4 = tfidf_vectorizer.fit_transform(articles_August['Title'])\n",
        "results4 = pd.DataFrame(tfidf_matrix_train4.toarray(), columns=tfidf_vectorizer.get_feature_names()) \n",
        "results4.head()"
      ],
      "metadata": {
        "id": "NsW1peO9BaOH"
      },
      "execution_count": null,
      "outputs": []
    },
    {
      "cell_type": "code",
      "source": [
        "results4.sum(axis =0).sort_values(ascending = False)"
      ],
      "metadata": {
        "id": "w4caeHTRBnBB"
      },
      "execution_count": null,
      "outputs": []
    },
    {
      "cell_type": "code",
      "source": [
        "print(\"cosine scores ==> \",cosine_similarity(tfidf_matrix_train3[0:1], tfidf_matrix_train4))"
      ],
      "metadata": {
        "id": "1fMOrI0rBzwq"
      },
      "execution_count": null,
      "outputs": []
    },
    {
      "cell_type": "code",
      "source": [
        "arr2 = cosine_similarity(tfidf_matrix_train3, tfidf_matrix_train4)"
      ],
      "metadata": {
        "id": "2o25o3C8B3Hn"
      },
      "execution_count": null,
      "outputs": []
    },
    {
      "cell_type": "code",
      "source": [
        "data2 = arr2[100:150]\n",
        "plt.figure(figsize = (15,10))\n",
        "ax = sns.heatmap(data)\n",
        "plt.suptitle (\"How much similar are the articles and the Tweets about fire in August?\")\n",
        "plt.show()"
      ],
      "metadata": {
        "id": "gPDkE_0IB_l8"
      },
      "execution_count": null,
      "outputs": []
    }
  ]
}